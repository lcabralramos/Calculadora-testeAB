{
  "nbformat": 4,
  "nbformat_minor": 0,
  "metadata": {
    "colab": {
      "provenance": [],
      "include_colab_link": true
    },
    "kernelspec": {
      "name": "python3",
      "display_name": "Python 3"
    },
    "language_info": {
      "name": "python"
    }
  },
  "cells": [
    {
      "cell_type": "markdown",
      "metadata": {
        "id": "view-in-github",
        "colab_type": "text"
      },
      "source": [
        "<a href=\"https://colab.research.google.com/github/lcabralramos/Calculadora-testeAB/blob/main/ETL_Aula_2_Exerc%C3%ADcios.ipynb\" target=\"_parent\"><img src=\"https://colab.research.google.com/assets/colab-badge.svg\" alt=\"Open In Colab\"/></a>"
      ]
    },
    {
      "cell_type": "markdown",
      "source": [
        "# Exercícios"
      ],
      "metadata": {
        "id": "CPh15dg2VZeG"
      }
    },
    {
      "cell_type": "markdown",
      "source": [
        "1. Quais são as possíveis falhas que podem ocorrer durante o processo de migração da base de dados Northwind para o modelo dimensional?"
      ],
      "metadata": {
        "id": "42fO4z2XVWNt"
      }
    },
    {
      "cell_type": "markdown",
      "source": [
        "2. Quais oportunidades de melhoria podem ser identificadas na migração realizada?"
      ],
      "metadata": {
        "id": "WiDMUveQVcuA"
      }
    },
    {
      "cell_type": "markdown",
      "source": [
        "3. Como a modelagem dimensional pode ajudar na análise de negócios em comparação com a estrutura da base de dados original?"
      ],
      "metadata": {
        "id": "uf1eRVzhVfKS"
      }
    },
    {
      "cell_type": "markdown",
      "source": [
        "4. Quais são os principais desafios enfrentados durante a transformação da base de dados em um modelo dimensional?"
      ],
      "metadata": {
        "id": "3ml4u8t-VixT"
      }
    },
    {
      "cell_type": "markdown",
      "source": [
        "5. Quais estratégias podem ser adotadas para mitigar possíveis problemas e validar a qualidade dos dados após a migração?"
      ],
      "metadata": {
        "id": "dAoDSF_wVlMV"
      }
    }
  ]
}